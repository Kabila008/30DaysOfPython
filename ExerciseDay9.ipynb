{
 "cells": [
  {
   "attachments": {},
   "cell_type": "markdown",
   "metadata": {},
   "source": [
    "# Exercises: Level 1\n",
    "\n",
    "```\n",
    "1. Get user input using input(“Enter your age: ”). \n",
    "If user is 18 or older, give feedback: You are old enough to drive. \n",
    "If below 18 give feedback to wait for the missing amount of years. Output:\n",
    "Enter your age: 30\n",
    "You are old enough to learn to drive.\n",
    "\n",
    "Output:\n",
    "Enter your age: 15\n",
    "You need 3 more years to learn to drive.\n",
    "```"
   ]
  },
  {
   "cell_type": "code",
   "execution_count": 5,
   "metadata": {},
   "outputs": [
    {
     "name": "stdout",
     "output_type": "stream",
     "text": [
      "Wait for 6 years to drive\n"
     ]
    }
   ],
   "source": [
    "age = int(input(\"Enter your age: \"))\n",
    "\n",
    "if age >= 18:\n",
    "    print('Your are old enough to drive')\n",
    "else:\n",
    "    print('Wait for {} years to learn to drive'.format(abs(int(18) - age))) "
   ]
  },
  {
   "attachments": {},
   "cell_type": "markdown",
   "metadata": {},
   "source": [
    "```\n",
    "2. Compare the values of my_age and your_age using if … else. \n",
    "\n",
    "Who is older (me or you)? \n",
    "Use input(“Enter your age: ”) to get the age as input. \n",
    "You can use a nested condition to print 'year' for 1 year difference in age, \n",
    "'years' for bigger differences, and a custom text if my_age = your_age. \n",
    "\n",
    "Output:\n",
    "Enter your age: 30\n",
    "You are 5 years older than me.\n",
    "```"
   ]
  },
  {
   "cell_type": "code",
   "execution_count": 22,
   "metadata": {},
   "outputs": [
    {
     "name": "stdout",
     "output_type": "stream",
     "text": [
      "You are 10 years older than me\n"
     ]
    }
   ],
   "source": [
    "my_age = int(input('My age is: '))\n",
    "\n",
    "your_age = int(input('Enter Your age is: '))\n",
    "\n",
    "if my_age - your_age == 1:\n",
    "    print('I am {} year older than you'.format(my_age - your_age))\n",
    "elif my_age > your_age:\n",
    "        print('I am {} years older than you'.format(my_age - your_age))\n",
    "        \n",
    "        \n",
    "elif your_age - my_age == 1:\n",
    "    print('You are {} year older than me'.format(abs(your_age - my_age)))\n",
    "    \n",
    "else:\n",
    "    print('You are {} years older than me'.format(abs(your_age - my_age)))\n",
    "    \n",
    "    \n",
    "    "
   ]
  },
  {
   "attachments": {},
   "cell_type": "markdown",
   "metadata": {},
   "source": [
    "```\n",
    "3. Get two numbers from the user using input prompt. \n",
    "If a is greater than b return a is greater than b, \n",
    "if a is less b return a is smaller than b, \n",
    "else a is equal to b. \n",
    "\n",
    "Output:\n",
    "Enter number one: 4\n",
    "Enter number two: 3\n",
    "4 is greater than 3\n",
    "```"
   ]
  },
  {
   "cell_type": "code",
   "execution_count": 25,
   "metadata": {},
   "outputs": [
    {
     "name": "stdout",
     "output_type": "stream",
     "text": [
      "4 is equal to 4\n"
     ]
    }
   ],
   "source": [
    "a = int(input(\"Enter number one: \"))\n",
    "\n",
    "b = int(input(\"Enter number two: \"))\n",
    "\n",
    "if a > b:\n",
    "    print('{} is greater than {}'.format(a,b))\n",
    "\n",
    "elif a < b:\n",
    "    print('{} is smaller than {}'.format(a,b))\n",
    "\n",
    "else:\n",
    "    print('{} is equal to {}'.format(a,b))"
   ]
  },
  {
   "attachments": {},
   "cell_type": "markdown",
   "metadata": {},
   "source": [
    "# Exercises: Level 2\n",
    "\n",
    "```\n",
    "1. Write a code which gives grade to students according to theirs scores:\n",
    "\n",
    "80-100, A\n",
    "70-89, B\n",
    "60-69, C\n",
    "50-59, D\n",
    "0-49, F\n",
    "```"
   ]
  },
  {
   "cell_type": "code",
   "execution_count": 31,
   "metadata": {},
   "outputs": [
    {
     "name": "stdout",
     "output_type": "stream",
     "text": [
      "Student grade is: F\n"
     ]
    }
   ],
   "source": [
    "score = float(input('Enter student score: '))\n",
    "\n",
    "if score >= 80 or score == 100:\n",
    "    print('Student grade is: A')\n",
    "    \n",
    "elif score >= 70 or score == 89:\n",
    "    print('Student grade is: B')\n",
    "    \n",
    "elif score >= 60 or score == 69:\n",
    "    print('Student grade is: C')\n",
    "    \n",
    "elif score >= 50 or score == 59:\n",
    "    print('Student grade is: D')\n",
    "    \n",
    "else:\n",
    "    print('Student grade is: F')"
   ]
  },
  {
   "attachments": {},
   "cell_type": "markdown",
   "metadata": {},
   "source": [
    "```\n",
    "2. Check if the season is Autumn, Winter, Spring or Summer. \n",
    "If the user input is: \n",
    "September, October or November: the season is Autumn. \n",
    "December, January or February: the season is Winter. \n",
    "March, April or May: the season is Spring. \n",
    "June, July or August: the season is Summer\n",
    "```"
   ]
  },
  {
   "cell_type": "code",
   "execution_count": 34,
   "metadata": {},
   "outputs": [
    {
     "name": "stdout",
     "output_type": "stream",
     "text": [
      "You have entered an invalid input\n"
     ]
    }
   ],
   "source": [
    "autumn = ['September', 'October', 'November']\n",
    "\n",
    "winter = ['December', 'January', 'February',]\n",
    "\n",
    "spring = ['March', 'April', 'May']\n",
    "\n",
    "summer = ['June', 'July', 'August']\n",
    "\n",
    "\n",
    "month = str(input('Enter a month'))\n",
    "\n",
    "if month in autumn:\n",
    "    print('Autumn')\n",
    "    \n",
    "elif month in winter:\n",
    "    print('Winter')\n",
    "    \n",
    "elif month in spring:\n",
    "    print('Spring')\n",
    "    \n",
    "elif month in summer:\n",
    "    print('Summer')\n",
    "    \n",
    "else:\n",
    "    print('You have entered an invalid input')\n",
    "    "
   ]
  },
  {
   "attachments": {},
   "cell_type": "markdown",
   "metadata": {},
   "source": [
    "```\n",
    "3. The following list contains some fruits:\n",
    "\n",
    "fruits = ['banana', 'orange', 'mango', 'lemon']\n",
    "If a fruit doesn't exist in the list add the fruit to the list \n",
    "and print the modified list. \n",
    "If the fruit exists print('That fruit already exist in the list')\n",
    "```"
   ]
  },
  {
   "cell_type": "code",
   "execution_count": 43,
   "metadata": {},
   "outputs": [
    {
     "name": "stdout",
     "output_type": "stream",
     "text": [
      "['banana', 'orange', 'mango', 'lemon', 'guava']\n"
     ]
    }
   ],
   "source": [
    "fruits = ['banana', 'orange', 'mango', 'lemon']\n",
    "\n",
    "fruit = str(input('Enter a fruit: '))\n",
    "\n",
    "if fruit in fruits:\n",
    "    print('That fruit already exist in the list')\n",
    "    \n",
    "else:\n",
    "    fruits.append(fruit) not in fruits\n",
    "    print(fruits)\n",
    "    "
   ]
  },
  {
   "attachments": {},
   "cell_type": "markdown",
   "metadata": {},
   "source": [
    "# Exercises: Level 3\n",
    "\n",
    "```\n",
    "4. Here we have a person dictionary. Feel free to modify it!\n",
    "\n",
    "        person={\n",
    "    'first_name': 'Asabeneh',\n",
    "    'last_name': 'Yetayeh',\n",
    "    'age': 250,\n",
    "    'country': 'Finland',\n",
    "    'is_marred': True,\n",
    "    'skills': ['JavaScript', 'React', 'Node', 'MongoDB', 'Python'],\n",
    "    'address': {\n",
    "        'street': 'Space street',\n",
    "        'zipcode': '02210'\n",
    "    }\n",
    "    }\n",
    "\n",
    " * Check if the person dictionary has skills key, if so print out the middle skill in the skills list.\n",
    " * Check if the person dictionary has skills key, if so check if the person has 'Python' skill and print out the result.\n",
    " * If a person skills has only JavaScript and React, print('He is a front end developer'), if the person skills has Node, Python, MongoDB, print('He is a backend developer'), if the person skills has React, Node and MongoDB, Print('He is a fullstack developer'), else print('unknown title') - for more accurate results more conditions can be nested!\n",
    " * If the person is married and if he lives in Finland, print the information in the following format:\n",
    " ```"
   ]
  },
  {
   "cell_type": "code",
   "execution_count": null,
   "metadata": {},
   "outputs": [],
   "source": [
    "person={\n",
    "    'first_name': 'Asabeneh',\n",
    "    'last_name': 'Yetayeh',\n",
    "    'age': 250,\n",
    "    'country': 'Finland',\n",
    "    'is_marred': True,\n",
    "    'skills': ['JavaScript', 'React', 'Node', 'MongoDB', 'Python'],\n",
    "    'address': {\n",
    "                'street': 'Space street',\n",
    "                'zipcode': '02210'\n",
    "    }\n",
    "    }\n",
    "\n"
   ]
  }
 ],
 "metadata": {
  "kernelspec": {
   "display_name": "Python 3",
   "language": "python",
   "name": "python3"
  },
  "language_info": {
   "codemirror_mode": {
    "name": "ipython",
    "version": 3
   },
   "file_extension": ".py",
   "mimetype": "text/x-python",
   "name": "python",
   "nbconvert_exporter": "python",
   "pygments_lexer": "ipython3",
   "version": "3.11.1"
  },
  "orig_nbformat": 4,
  "vscode": {
   "interpreter": {
    "hash": "6f03bf06d7fcb248854fe5fe584a09c53d956cb2c7de032b5f7aacb55e20ab0c"
   }
  }
 },
 "nbformat": 4,
 "nbformat_minor": 2
}
