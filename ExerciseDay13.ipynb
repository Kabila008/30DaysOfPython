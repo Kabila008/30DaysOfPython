{
 "cells": [
  {
   "attachments": {},
   "cell_type": "markdown",
   "metadata": {},
   "source": [
    "# Exercises: Day 13\n"
   ]
  },
  {
   "attachments": {},
   "cell_type": "markdown",
   "metadata": {},
   "source": [
    "```\n",
    "1. Filter only negative and zero in the \n",
    "    list using list comprehension\n",
    "    numbers = [-4, -3, -2, -1, 0, 2, 4, 6]\n",
    "```"
   ]
  },
  {
   "cell_type": "code",
   "execution_count": 1,
   "metadata": {},
   "outputs": [
    {
     "name": "stdout",
     "output_type": "stream",
     "text": [
      "Zero and negatives: [-4, -3, -2, -1, 0] \n"
     ]
    }
   ],
   "source": [
    "numbers = [-4,-3,-2,-1,0,2]\n",
    "zero_neg = [number for number in numbers if number <=0]\n",
    "print(f'Zero and negatives: {zero_neg} ')"
   ]
  },
  {
   "attachments": {},
   "cell_type": "markdown",
   "metadata": {},
   "source": [
    "```\n",
    "2. Flatten the following list of lists of lists to a \n",
    "    one dimensional list :\n",
    "    list_of_lists =[[[1, 2, 3]], [[4, 5, 6]], [[7, 8, 9]]]\n",
    "\n",
    "    output\n",
    "    [1, 2, 3, 4, 5, 6, 7, 8, 9]\n",
    "\n",
    "```"
   ]
  },
  {
   "cell_type": "code",
   "execution_count": 2,
   "metadata": {},
   "outputs": [
    {
     "name": "stdout",
     "output_type": "stream",
     "text": [
      "The flattened list b (computed stepwise): [1, 2, 3, 4, 5, 6, 7, 8, 9]\n",
      "The flattened list c (computed direct): [1, 2, 3, 4, 5, 6, 7, 8, 9]\n"
     ]
    }
   ],
   "source": [
    "list_of_lists = [[[1,2,3]],[[4,5,6]],[[7,8,9]]]\n",
    "# In steps\n",
    "a = [number for row in list_of_lists for number in row]\n",
    "b = [number for row in a for number in row]\n",
    "# Trying at once\n",
    "\n",
    "# levels = number -> list > row -> list_of_lists\n",
    "c = [number for row in list_of_lists for list in row for number in list]\n",
    "print(f'The flattened list b (computed stepwise): {b}')\n",
    "print(f'The flattened list c (computed direct): {c}')"
   ]
  },
  {
   "attachments": {},
   "cell_type": "markdown",
   "metadata": {},
   "source": [
    "```\n",
    "3. Using list comprehension create the following list of tuples:\n",
    "\n",
    "    [(0, 1, 0, 0, 0, 0, 0),\n",
    "    (1, 1, 1, 1, 1, 1, 1),\n",
    "    (2, 1, 2, 4, 8, 16, 32),\n",
    "    (3, 1, 3, 9, 27, 81, 243),\n",
    "    (4, 1, 4, 16, 64, 256, 1024),\n",
    "    (5, 1, 5, 25, 125, 625, 3125),\n",
    "    (6, 1, 6, 36, 216, 1296, 7776),\n",
    "    (7, 1, 7, 49, 343, 2401, 16807),\n",
    "    (8, 1, 8, 64, 512, 4096, 32768),\n",
    "    (9, 1, 9, 81, 729, 6561, 59049),\n",
    "    (10, 1, 10, 100, 1000, 10000, 100000)]\n",
    "\n",
    "```"
   ]
  },
  {
   "cell_type": "code",
   "execution_count": 4,
   "metadata": {},
   "outputs": [
    {
     "data": {
      "text/plain": [
       "[(0, 1, 0, 0, 0, 0, 0),\n",
       " (1, 1, 1, 1, 1, 1, 1),\n",
       " (2, 1, 2, 4, 8, 16, 32),\n",
       " (3, 1, 3, 9, 27, 81, 243),\n",
       " (4, 1, 4, 16, 64, 256, 1024),\n",
       " (5, 1, 5, 25, 125, 625, 3125),\n",
       " (6, 1, 6, 36, 216, 1296, 7776),\n",
       " (7, 1, 7, 49, 343, 2401, 16807),\n",
       " (8, 1, 8, 64, 512, 4096, 32768),\n",
       " (9, 1, 9, 81, 729, 6561, 59049),\n",
       " (10, 1, 10, 100, 1000, 10000, 100000)]"
      ]
     },
     "execution_count": 4,
     "metadata": {},
     "output_type": "execute_result"
    }
   ],
   "source": [
    "# Assigning will not give the exact output\n",
    "[(i**1,i**0,i**1,i**2,i**3,i**4,i**5) for i in range(11)]"
   ]
  },
  {
   "attachments": {},
   "cell_type": "markdown",
   "metadata": {},
   "source": [
    "```\n",
    "4. Flatten the following list to a new list:\n",
    "\n",
    "    countries = [[('Finland', 'Helsinki')], \n",
    "    [('Sweden', 'Stockholm')], [('Norway', 'Oslo')]]\n",
    "    \n",
    "    output:\n",
    "    [['FINLAND','FIN', 'HELSINKI'], ['SWEDEN', 'SWE', '\n",
    "    STOCKHOLM'], ['NORWAY', 'NOR', 'OSLO']]\n",
    "\n",
    "```"
   ]
  },
  {
   "cell_type": "code",
   "execution_count": 5,
   "metadata": {},
   "outputs": [
    {
     "data": {
      "text/plain": [
       "[['FINLAND', 'FIN', 'HELSINKI'],\n",
       " ['SWEDEN', 'SWE', 'STOCKHOLM'],\n",
       " ['NORWAY', 'NOR', 'OSLO']]"
      ]
     },
     "execution_count": 5,
     "metadata": {},
     "output_type": "execute_result"
    }
   ],
   "source": [
    "countries = [[('Finland', 'Helsinki')], [('Sweden', 'Stockholm')], [('Norway', 'Oslo')]]\n",
    "# Using this to understand\n",
    "# tpl -> row -> list\n",
    "[[tpl[0].upper(),tpl[0][:3].upper(), tpl[1].upper()] for row in countries for tpl in row]"
   ]
  },
  {
   "attachments": {},
   "cell_type": "markdown",
   "metadata": {},
   "source": [
    "```\n",
    "5. Change the following list to a list of dictionaries:\n",
    "\n",
    "    countries = [[('Finland', 'Helsinki')], [('Sweden', 'Stockholm')],\n",
    "     [('Norway', 'Oslo')]]\n",
    "\n",
    "    output:\n",
    "    [{'country': 'FINLAND', 'city': 'HELSINKI'},\n",
    "    {'country': 'SWEDEN', 'city': 'STOCKHOLM'},\n",
    "    {'country': 'NORWAY', 'city': 'OSLO'}]\n",
    "\n",
    "\n",
    "```"
   ]
  },
  {
   "cell_type": "code",
   "execution_count": 6,
   "metadata": {},
   "outputs": [
    {
     "data": {
      "text/plain": [
       "[{'country': 'Finland', 'city': 'Helsinki'},\n",
       " {'country': 'Sweden', 'city': 'Stockholm'},\n",
       " {'country': 'Norway', 'city': 'Oslo'}]"
      ]
     },
     "execution_count": 6,
     "metadata": {},
     "output_type": "execute_result"
    }
   ],
   "source": [
    "countries = [[('Finland', 'Helsinki')], [('Sweden', 'Stockholm')], [('Norway', 'Oslo')]]\n",
    "\n",
    "\n",
    "[{'country':tpl[0],'city':tpl[1]} for row in countries for tpl in row]"
   ]
  },
  {
   "attachments": {},
   "cell_type": "markdown",
   "metadata": {},
   "source": [
    "```\n",
    "6.     Change the following list of lists to a list of concatenated strings:\n",
    "\n",
    "    names = [[('Asabeneh', 'Yetayeh')], [('David', 'Smith')], \n",
    "    [('Donald', 'Trump')], [('Bill', 'Gates')]]\n",
    "    \n",
    "    output\n",
    "    ['Asabeneh Yetaeyeh', 'David Smith', 'Donald Trump', 'Bill Gates']\n",
    "```"
   ]
  },
  {
   "cell_type": "code",
   "execution_count": 7,
   "metadata": {},
   "outputs": [
    {
     "data": {
      "text/plain": [
       "['Asabeneh Yetayeh', 'David Smith', 'Donald Trump', 'Bill Gates']"
      ]
     },
     "execution_count": 7,
     "metadata": {},
     "output_type": "execute_result"
    }
   ],
   "source": [
    "names = [[('Asabeneh', 'Yetayeh')], [('David', 'Smith')], [('Donald', 'Trump')], [('Bill', 'Gates')]]\n",
    "\n",
    "\n",
    "[(name[0] + \" \" + name[1]) for row in names for name in row]"
   ]
  },
  {
   "attachments": {},
   "cell_type": "markdown",
   "metadata": {},
   "source": [
    "```\n",
    "7. Write a lambda function which can solve a slope or\n",
    "     y-intercept of linear functions.\n",
    "```"
   ]
  },
  {
   "cell_type": "code",
   "execution_count": 8,
   "metadata": {},
   "outputs": [
    {
     "data": {
      "text/plain": [
       "4"
      ]
     },
     "execution_count": 8,
     "metadata": {},
     "output_type": "execute_result"
    }
   ],
   "source": [
    "# y = m * x + c\n",
    "# chose y-intercept\n",
    "y_i_c = lambda m,c,x:c  # when x is zero, value of y\n",
    "y_i_c(2,4,2)"
   ]
  }
 ],
 "metadata": {
  "kernelspec": {
   "display_name": "Python 3",
   "language": "python",
   "name": "python3"
  },
  "language_info": {
   "codemirror_mode": {
    "name": "ipython",
    "version": 3
   },
   "file_extension": ".py",
   "mimetype": "text/x-python",
   "name": "python",
   "nbconvert_exporter": "python",
   "pygments_lexer": "ipython3",
   "version": "3.11.1"
  },
  "orig_nbformat": 4,
  "vscode": {
   "interpreter": {
    "hash": "6f03bf06d7fcb248854fe5fe584a09c53d956cb2c7de032b5f7aacb55e20ab0c"
   }
  }
 },
 "nbformat": 4,
 "nbformat_minor": 2
}
