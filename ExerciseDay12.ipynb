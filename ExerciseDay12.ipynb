{
 "cells": [
  {
   "attachments": {},
   "cell_type": "markdown",
   "metadata": {},
   "source": [
    "# Exercises: Level 1\n",
    "\n"
   ]
  },
  {
   "attachments": {},
   "cell_type": "markdown",
   "metadata": {},
   "source": [
    "```\n",
    "1. Writ a function which generates a six digit/character \n",
    "    random_user_id.\n",
    "  print(random_user_id());\n",
    "  '1ee33d'\n",
    "```"
   ]
  },
  {
   "cell_type": "code",
   "execution_count": 1,
   "metadata": {},
   "outputs": [
    {
     "name": "stdout",
     "output_type": "stream",
     "text": [
      " id: EM8r2m\n"
     ]
    }
   ],
   "source": [
    "# importing the required modules\n",
    "import random\n",
    "import string\n",
    "def random_user_id():\n",
    "    return \"\".join(str(random.choice(string.ascii_letters + string.digits)) for i in range(6))\n",
    "\n",
    "\n",
    "print(f' id: {random_user_id()}')"
   ]
  },
  {
   "attachments": {},
   "cell_type": "markdown",
   "metadata": {},
   "source": [
    "```\n",
    "2. Modify the previous task. Declare a function named \n",
    "    user_id_gen_by_user. It doesn’t take any parameters \n",
    "    but it takes two inputs using input(). \n",
    "    One of the inputs is the number of characters and \n",
    "    the second input is the number of IDs which are supposed \n",
    "    to be generated.\n",
    "\n",
    "    print(user_id_gen_by_user()) # user input: 5 5\n",
    "    #output:\n",
    "    #kcsy2\n",
    "    #SMFYb\n",
    "    #bWmeq\n",
    "    #ZXOYh\n",
    "    #2Rgxf\n",
    "   \n",
    "    print(user_id_gen_by_user()) # 16 5\n",
    "    #1GCSgPLMaBAVQZ26\n",
    "    #YD7eFwNQKNs7qXaT\n",
    "    #ycArC5yrRupyG00S\n",
    "    #UbGxOFI7UXSWAyKN\n",
    "    #dIV0SSUTgAdKwStr\n",
    "```"
   ]
  },
  {
   "cell_type": "code",
   "execution_count": 2,
   "metadata": {},
   "outputs": [
    {
     "data": {
      "text/plain": [
       "['LaE6tsye', 'a2hJMcee', 'efEdTfb1', 'W9D1Osoq', '22yD8njr']"
      ]
     },
     "execution_count": 2,
     "metadata": {},
     "output_type": "execute_result"
    }
   ],
   "source": [
    "def random_user_id_gen_by_user():\n",
    "    a = int(input(\"Enter the number of characters: \"))\n",
    "    b = int(input(\"Enter the number of IDs: \"))\n",
    "    return [\"\".join(str(random.choice(string.ascii_letters + string.digits)) for i in range(a)) for j in range(b)]\n",
    "\n",
    "random_user_id_gen_by_user()"
   ]
  },
  {
   "attachments": {},
   "cell_type": "markdown",
   "metadata": {},
   "source": [
    "```\n",
    "3. Write a function named rgb_color_gen. \n",
    "    It will generate rgb colors (3 values ranging from 0 to 255 each).\n",
    "    print(rgb_color_gen())\n",
    "    # rgb(125,244,255) - the output should be in this form\n",
    "\n",
    "```"
   ]
  },
  {
   "cell_type": "code",
   "execution_count": 3,
   "metadata": {},
   "outputs": [
    {
     "name": "stdout",
     "output_type": "stream",
     "text": [
      "rgb(129,105,49)\n"
     ]
    }
   ],
   "source": [
    "def rgb_color_gen():\n",
    "    a = ','.join(str(random.randint(0,255)) for i in range(3))\n",
    "    return 'rgb('+ a + ')'\n",
    "\n",
    "print(rgb_color_gen())"
   ]
  },
  {
   "attachments": {},
   "cell_type": "markdown",
   "metadata": {},
   "source": [
    "# Exercises: Level 2\n"
   ]
  },
  {
   "attachments": {},
   "cell_type": "markdown",
   "metadata": {},
   "source": [
    "```\n",
    "1. Write a function list_of_hexa_colors which returns any number of \n",
    "    hexadecimal colors in an array (six hexadecimal numbers written \n",
    "    after #. Hexadecimal numeral system is made out of 16 symbols, \n",
    "    0-9 and first 6 letters of the alphabet, a-f. \n",
    "    Check the task 6 for output examples).\n",
    "```"
   ]
  },
  {
   "cell_type": "code",
   "execution_count": 4,
   "metadata": {},
   "outputs": [
    {
     "data": {
      "text/plain": [
       "['#3bcef8', '#f4e81e', '#abefa9', '#8d36e3', '#9ef638', '#466452']"
      ]
     },
     "execution_count": 4,
     "metadata": {},
     "output_type": "execute_result"
    }
   ],
   "source": [
    "def list_of_hexa_colors(x):\n",
    "     a= [\"\".join(str(random.choice('abcdef' + string.digits)) for i in range(6)) for j in range(x)]\n",
    "     b =['#' + item for item in a]\n",
    "     return b\n",
    "list_of_hexa_colors(6)"
   ]
  },
  {
   "attachments": {},
   "cell_type": "markdown",
   "metadata": {},
   "source": [
    "```\n",
    "2. Write a function list_of_rgb_colors which returns any \n",
    "    number of RGB colors in an array.\n",
    "```"
   ]
  },
  {
   "cell_type": "code",
   "execution_count": 5,
   "metadata": {},
   "outputs": [
    {
     "data": {
      "text/plain": [
       "['rgb(225,92,136)',\n",
       " 'rgb(8,251,51)',\n",
       " 'rgb(152,33,122)',\n",
       " 'rgb(27,147,74)',\n",
       " 'rgb(10,245,182)',\n",
       " 'rgb(225,247,199)',\n",
       " 'rgb(68,167,69)']"
      ]
     },
     "execution_count": 5,
     "metadata": {},
     "output_type": "execute_result"
    }
   ],
   "source": [
    "def list_of_rgb_colors(x):\n",
    "    return [rgb_color_gen() for i in range(x)]\n",
    "\n",
    "list_of_rgb_colors(7)"
   ]
  },
  {
   "attachments": {},
   "cell_type": "markdown",
   "metadata": {},
   "source": [
    "```\n",
    "3. Write a function generate_colors which can generate any number \n",
    "    of hexa or rgb colors.\n",
    "   \n",
    "   generate_colors('hexa', 3) # ['#a3e12f','#03ed55','#eb3d2b'] \n",
    "   generate_colors('hexa', 1) # ['#b334ef']\n",
    "   generate_colors('rgb', 3)  # ['rgb(5, 55, 175','rgb(50, \n",
    "                                105, 100','rgb(15, 26, 80'] \n",
    "   generate_colors('rgb', 1)  # ['rgb(33,79, 176)']\n",
    "\n",
    "```"
   ]
  },
  {
   "cell_type": "code",
   "execution_count": 6,
   "metadata": {},
   "outputs": [
    {
     "name": "stdout",
     "output_type": "stream",
     "text": [
      "['#9ae7f1', '#edeec5', '#259d3c', '#0ec378']\n"
     ]
    }
   ],
   "source": [
    "def generate_colors(fun,x):\n",
    "    if fun == 'hexa':\n",
    "        result = list_of_hexa_colors(x)\n",
    "    elif fun == 'rgb':\n",
    "        result = list_of_rgb_colors(x)\n",
    "\n",
    "    return result\n",
    "\n",
    "\n",
    "print(generate_colors('hexa',4))"
   ]
  },
  {
   "attachments": {},
   "cell_type": "markdown",
   "metadata": {},
   "source": [
    "# Exercises: Level 3\n"
   ]
  },
  {
   "attachments": {},
   "cell_type": "markdown",
   "metadata": {},
   "source": [
    "```\n",
    "1. Call your function shuffle_list, it takes a list as a parameter \n",
    "    and it returns a shuffled list\n",
    "```"
   ]
  },
  {
   "cell_type": "code",
   "execution_count": 7,
   "metadata": {},
   "outputs": [
    {
     "name": "stdout",
     "output_type": "stream",
     "text": [
      "[4, 3, 1, 5, 2]\n"
     ]
    }
   ],
   "source": [
    "def shuffle_list(list):\n",
    "    random.shuffle(list)\n",
    "    return list\n",
    "print(shuffle_list([1,2,3,4,5]))"
   ]
  },
  {
   "attachments": {},
   "cell_type": "markdown",
   "metadata": {},
   "source": [
    "```\n",
    "2. Write a function which returns an array of seven random numbers \n",
    "    in a range of 0-9. All the numbers must be unique.#\n",
    "```"
   ]
  },
  {
   "cell_type": "code",
   "execution_count": 8,
   "metadata": {},
   "outputs": [
    {
     "name": "stdout",
     "output_type": "stream",
     "text": [
      "[9, 2, 6, 5, 7, 8, 0]\n"
     ]
    }
   ],
   "source": [
    "def unique_random_nums():\n",
    "    return random.sample([0,1,2,3,4,5,6,7,8,9],k=7)\n",
    "\n",
    "print(unique_random_nums())"
   ]
  }
 ],
 "metadata": {
  "kernelspec": {
   "display_name": "Python 3",
   "language": "python",
   "name": "python3"
  },
  "language_info": {
   "codemirror_mode": {
    "name": "ipython",
    "version": 3
   },
   "file_extension": ".py",
   "mimetype": "text/x-python",
   "name": "python",
   "nbconvert_exporter": "python",
   "pygments_lexer": "ipython3",
   "version": "3.11.1"
  },
  "orig_nbformat": 4,
  "vscode": {
   "interpreter": {
    "hash": "6f03bf06d7fcb248854fe5fe584a09c53d956cb2c7de032b5f7aacb55e20ab0c"
   }
  }
 },
 "nbformat": 4,
 "nbformat_minor": 2
}
